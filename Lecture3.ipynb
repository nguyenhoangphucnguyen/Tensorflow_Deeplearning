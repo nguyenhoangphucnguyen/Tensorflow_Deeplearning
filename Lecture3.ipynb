{
  "nbformat": 4,
  "nbformat_minor": 0,
  "metadata": {
    "colab": {
      "provenance": []
    },
    "kernelspec": {
      "name": "python3",
      "display_name": "Python 3"
    },
    "language_info": {
      "name": "python"
    }
  },
  "cells": [
    {
      "cell_type": "code",
      "execution_count": null,
      "metadata": {
        "colab": {
          "base_uri": "https://localhost:8080/"
        },
        "id": "ytpgrkoiM-C4",
        "outputId": "b9373eb0-e35e-4133-9855-59fcbc8c342a"
      },
      "outputs": [
        {
          "output_type": "execute_result",
          "data": {
            "text/plain": [
              "(4,)"
            ]
          },
          "metadata": {},
          "execution_count": 1
        }
      ],
      "source": [
        "import numpy as np\n",
        "\n",
        "number_vector = np.array([1, 2, 3, 4])\n",
        "number_vector.shape"
      ]
    },
    {
      "cell_type": "code",
      "source": [
        "number_matrix = np.array([[1, 2, 3], [4, 5, 6]])\n",
        "number_matrix"
      ],
      "metadata": {
        "colab": {
          "base_uri": "https://localhost:8080/"
        },
        "id": "nxqNHIZjNSQv",
        "outputId": "a3791e89-1541-4450-df66-43b1a93e941b"
      },
      "execution_count": null,
      "outputs": [
        {
          "output_type": "execute_result",
          "data": {
            "text/plain": [
              "array([[1, 2, 3],\n",
              "       [4, 5, 6]])"
            ]
          },
          "metadata": {},
          "execution_count": 2
        }
      ]
    },
    {
      "cell_type": "code",
      "source": [
        "number_matrix.shape"
      ],
      "metadata": {
        "colab": {
          "base_uri": "https://localhost:8080/"
        },
        "id": "nQbMDtuFoiOL",
        "outputId": "71e8122a-6548-4487-a40e-dc2b2a7146e3"
      },
      "execution_count": null,
      "outputs": [
        {
          "output_type": "execute_result",
          "data": {
            "text/plain": [
              "(2, 3)"
            ]
          },
          "metadata": {},
          "execution_count": 3
        }
      ]
    },
    {
      "cell_type": "code",
      "source": [
        "number_matrix.shape"
      ],
      "metadata": {
        "colab": {
          "base_uri": "https://localhost:8080/"
        },
        "id": "NBjjI9b1NXUd",
        "outputId": "e08f8c0a-f795-49f6-a9f8-75c16c019876"
      },
      "execution_count": null,
      "outputs": [
        {
          "output_type": "execute_result",
          "data": {
            "text/plain": [
              "(2, 3)"
            ]
          },
          "metadata": {},
          "execution_count": 4
        }
      ]
    },
    {
      "cell_type": "code",
      "source": [
        "number_3D_matrix = np.array([\n",
        "    [[1, 2, 3], [4, 5, 6]],\n",
        "    [[1, 2, 3], [4, 5, 6]]\n",
        "])\n",
        "\n",
        "number_3D_matrix"
      ],
      "metadata": {
        "colab": {
          "base_uri": "https://localhost:8080/"
        },
        "id": "PRrn9DSINa3V",
        "outputId": "5bf72c12-7b06-4a36-e329-850b34403939"
      },
      "execution_count": null,
      "outputs": [
        {
          "output_type": "execute_result",
          "data": {
            "text/plain": [
              "array([[[1, 2, 3],\n",
              "        [4, 5, 6]],\n",
              "\n",
              "       [[1, 2, 3],\n",
              "        [4, 5, 6]]])"
            ]
          },
          "metadata": {},
          "execution_count": 4
        }
      ]
    },
    {
      "cell_type": "code",
      "source": [
        "number_3D_matrix.shape"
      ],
      "metadata": {
        "colab": {
          "base_uri": "https://localhost:8080/"
        },
        "id": "K02ms4O_Ngyd",
        "outputId": "4e263268-c37d-48ca-9070-b267b4b5703c"
      },
      "execution_count": null,
      "outputs": [
        {
          "output_type": "execute_result",
          "data": {
            "text/plain": [
              "(2, 2, 3)"
            ]
          },
          "metadata": {},
          "execution_count": 5
        }
      ]
    },
    {
      "cell_type": "code",
      "source": [
        "number_1D_zeros = np.zeros((10, ))\n",
        "number_1D_zeros"
      ],
      "metadata": {
        "colab": {
          "base_uri": "https://localhost:8080/"
        },
        "id": "1SsKv0uKNnA2",
        "outputId": "9f65ca55-edc0-4c46-e057-0fde04deccc8"
      },
      "execution_count": null,
      "outputs": [
        {
          "output_type": "execute_result",
          "data": {
            "text/plain": [
              "array([0., 0., 0., 0., 0., 0., 0., 0., 0., 0.])"
            ]
          },
          "metadata": {},
          "execution_count": 8
        }
      ]
    },
    {
      "cell_type": "code",
      "source": [
        "number_1D_ones = np.ones((3, ))\n",
        "number_1D_ones"
      ],
      "metadata": {
        "colab": {
          "base_uri": "https://localhost:8080/"
        },
        "id": "88LZOckMNsZt",
        "outputId": "9b7cc2ab-756e-4564-e3aa-2012d78aa62b"
      },
      "execution_count": null,
      "outputs": [
        {
          "output_type": "execute_result",
          "data": {
            "text/plain": [
              "array([1., 1., 1.])"
            ]
          },
          "metadata": {},
          "execution_count": 9
        }
      ]
    },
    {
      "cell_type": "code",
      "source": [
        "number_1D_sevens = np.full((6, ), 7)\n",
        "number_1D_sevens"
      ],
      "metadata": {
        "colab": {
          "base_uri": "https://localhost:8080/"
        },
        "id": "Lx00oomKNyED",
        "outputId": "39044c19-5b38-4b32-bab7-75620be83d59"
      },
      "execution_count": null,
      "outputs": [
        {
          "output_type": "execute_result",
          "data": {
            "text/plain": [
              "array([7, 7, 7, 7, 7, 7])"
            ]
          },
          "metadata": {},
          "execution_count": 10
        }
      ]
    },
    {
      "cell_type": "code",
      "source": [
        "number_2D_zeros = np.zeros((7, 7))\n",
        "number_2D_zeros"
      ],
      "metadata": {
        "colab": {
          "base_uri": "https://localhost:8080/"
        },
        "id": "UjLEbP4GN3TE",
        "outputId": "a791cd83-d6e9-4f5d-9c65-1dbc692bd6bb"
      },
      "execution_count": null,
      "outputs": [
        {
          "output_type": "execute_result",
          "data": {
            "text/plain": [
              "array([[0., 0., 0., 0., 0., 0., 0.],\n",
              "       [0., 0., 0., 0., 0., 0., 0.],\n",
              "       [0., 0., 0., 0., 0., 0., 0.],\n",
              "       [0., 0., 0., 0., 0., 0., 0.],\n",
              "       [0., 0., 0., 0., 0., 0., 0.],\n",
              "       [0., 0., 0., 0., 0., 0., 0.],\n",
              "       [0., 0., 0., 0., 0., 0., 0.]])"
            ]
          },
          "metadata": {},
          "execution_count": 11
        }
      ]
    },
    {
      "cell_type": "code",
      "source": [
        "number_2D_ones = np.ones((6, 5))\n",
        "number_2D_ones"
      ],
      "metadata": {
        "colab": {
          "base_uri": "https://localhost:8080/"
        },
        "id": "-UiTA-SZN8ED",
        "outputId": "fdf80ec5-43bc-48a7-b75b-a49a47f722de"
      },
      "execution_count": null,
      "outputs": [
        {
          "output_type": "execute_result",
          "data": {
            "text/plain": [
              "array([[1., 1., 1., 1., 1.],\n",
              "       [1., 1., 1., 1., 1.],\n",
              "       [1., 1., 1., 1., 1.],\n",
              "       [1., 1., 1., 1., 1.],\n",
              "       [1., 1., 1., 1., 1.],\n",
              "       [1., 1., 1., 1., 1.]])"
            ]
          },
          "metadata": {},
          "execution_count": 12
        }
      ]
    },
    {
      "cell_type": "code",
      "source": [
        "number_2D_eights = np.full((8, 8), 8)\n",
        "number_2D_eights"
      ],
      "metadata": {
        "colab": {
          "base_uri": "https://localhost:8080/"
        },
        "id": "cKZJHD3qOA1d",
        "outputId": "100392db-1ebb-4dce-c091-dd329e5cfaaf"
      },
      "execution_count": null,
      "outputs": [
        {
          "output_type": "execute_result",
          "data": {
            "text/plain": [
              "array([[8, 8, 8, 8, 8, 8, 8, 8],\n",
              "       [8, 8, 8, 8, 8, 8, 8, 8],\n",
              "       [8, 8, 8, 8, 8, 8, 8, 8],\n",
              "       [8, 8, 8, 8, 8, 8, 8, 8],\n",
              "       [8, 8, 8, 8, 8, 8, 8, 8],\n",
              "       [8, 8, 8, 8, 8, 8, 8, 8],\n",
              "       [8, 8, 8, 8, 8, 8, 8, 8],\n",
              "       [8, 8, 8, 8, 8, 8, 8, 8]])"
            ]
          },
          "metadata": {},
          "execution_count": 13
        }
      ]
    },
    {
      "cell_type": "code",
      "source": [
        "number_3D_zeros = np.zeros((4, 2, 3))\n",
        "number_3D_zeros"
      ],
      "metadata": {
        "colab": {
          "base_uri": "https://localhost:8080/"
        },
        "id": "JMm8NTgVOFdF",
        "outputId": "5eca1237-d0d0-4335-a2c2-2b9b6195bfa9"
      },
      "execution_count": null,
      "outputs": [
        {
          "output_type": "execute_result",
          "data": {
            "text/plain": [
              "array([[[0., 0., 0.],\n",
              "        [0., 0., 0.]],\n",
              "\n",
              "       [[0., 0., 0.],\n",
              "        [0., 0., 0.]],\n",
              "\n",
              "       [[0., 0., 0.],\n",
              "        [0., 0., 0.]],\n",
              "\n",
              "       [[0., 0., 0.],\n",
              "        [0., 0., 0.]]])"
            ]
          },
          "metadata": {},
          "execution_count": 14
        }
      ]
    },
    {
      "cell_type": "code",
      "source": [
        "number_3D_ones = np.ones((3, 3, 4))\n",
        "number_3D_ones"
      ],
      "metadata": {
        "colab": {
          "base_uri": "https://localhost:8080/"
        },
        "id": "N-1nsTZPOLH9",
        "outputId": "e0ad59d6-1be8-4e88-bee5-3c64d540bab9"
      },
      "execution_count": null,
      "outputs": [
        {
          "output_type": "execute_result",
          "data": {
            "text/plain": [
              "array([[[1., 1., 1., 1.],\n",
              "        [1., 1., 1., 1.],\n",
              "        [1., 1., 1., 1.]],\n",
              "\n",
              "       [[1., 1., 1., 1.],\n",
              "        [1., 1., 1., 1.],\n",
              "        [1., 1., 1., 1.]],\n",
              "\n",
              "       [[1., 1., 1., 1.],\n",
              "        [1., 1., 1., 1.],\n",
              "        [1., 1., 1., 1.]]])"
            ]
          },
          "metadata": {},
          "execution_count": 15
        }
      ]
    },
    {
      "cell_type": "code",
      "source": [
        "number_3D_twenties = np.full((3, 2, 7), 20)\n",
        "number_3D_twenties"
      ],
      "metadata": {
        "colab": {
          "base_uri": "https://localhost:8080/"
        },
        "id": "A-5c19ZHOQoF",
        "outputId": "c4c94412-9a20-40a9-c274-68cbe28757e5"
      },
      "execution_count": null,
      "outputs": [
        {
          "output_type": "execute_result",
          "data": {
            "text/plain": [
              "array([[[20, 20, 20, 20, 20, 20, 20],\n",
              "        [20, 20, 20, 20, 20, 20, 20]],\n",
              "\n",
              "       [[20, 20, 20, 20, 20, 20, 20],\n",
              "        [20, 20, 20, 20, 20, 20, 20]],\n",
              "\n",
              "       [[20, 20, 20, 20, 20, 20, 20],\n",
              "        [20, 20, 20, 20, 20, 20, 20]]])"
            ]
          },
          "metadata": {},
          "execution_count": 16
        }
      ]
    },
    {
      "cell_type": "code",
      "source": [
        "np.eye((10))"
      ],
      "metadata": {
        "colab": {
          "base_uri": "https://localhost:8080/"
        },
        "id": "w-dmK1P5OVpe",
        "outputId": "2522f33f-0ea8-44fb-a9b3-32240df85366"
      },
      "execution_count": null,
      "outputs": [
        {
          "output_type": "execute_result",
          "data": {
            "text/plain": [
              "array([[1., 0., 0., 0., 0., 0., 0., 0., 0., 0.],\n",
              "       [0., 1., 0., 0., 0., 0., 0., 0., 0., 0.],\n",
              "       [0., 0., 1., 0., 0., 0., 0., 0., 0., 0.],\n",
              "       [0., 0., 0., 1., 0., 0., 0., 0., 0., 0.],\n",
              "       [0., 0., 0., 0., 1., 0., 0., 0., 0., 0.],\n",
              "       [0., 0., 0., 0., 0., 1., 0., 0., 0., 0.],\n",
              "       [0., 0., 0., 0., 0., 0., 1., 0., 0., 0.],\n",
              "       [0., 0., 0., 0., 0., 0., 0., 1., 0., 0.],\n",
              "       [0., 0., 0., 0., 0., 0., 0., 0., 1., 0.],\n",
              "       [0., 0., 0., 0., 0., 0., 0., 0., 0., 1.]])"
            ]
          },
          "metadata": {},
          "execution_count": 17
        }
      ]
    },
    {
      "cell_type": "code",
      "source": [
        "number_1D_range_10 = np.arange(10)\n",
        "number_1D_range_10"
      ],
      "metadata": {
        "colab": {
          "base_uri": "https://localhost:8080/"
        },
        "id": "e34wbbnKOZW1",
        "outputId": "b22ea7c5-9fa9-4a2d-c59b-aa1d34832825"
      },
      "execution_count": null,
      "outputs": [
        {
          "output_type": "execute_result",
          "data": {
            "text/plain": [
              "array([0, 1, 2, 3, 4, 5, 6, 7, 8, 9])"
            ]
          },
          "metadata": {},
          "execution_count": 18
        }
      ]
    },
    {
      "cell_type": "code",
      "source": [
        "number_1D_range_20 = np.arange(2, 10)\n",
        "number_1D_range_20"
      ],
      "metadata": {
        "colab": {
          "base_uri": "https://localhost:8080/"
        },
        "id": "VIwjdKg1Oiuu",
        "outputId": "3581da11-ac16-449f-e907-771543a8bd4f"
      },
      "execution_count": null,
      "outputs": [
        {
          "output_type": "execute_result",
          "data": {
            "text/plain": [
              "array([2, 3, 4, 5, 6, 7, 8, 9])"
            ]
          },
          "metadata": {},
          "execution_count": 19
        }
      ]
    },
    {
      "cell_type": "code",
      "source": [
        "number_1D_range_30 = np.arange(0, 30, 2)\n",
        "number_1D_range_30"
      ],
      "metadata": {
        "colab": {
          "base_uri": "https://localhost:8080/"
        },
        "id": "yyQjJO3FOnE1",
        "outputId": "c828ffcf-8df8-49ce-90c3-c4d602f345a2"
      },
      "execution_count": null,
      "outputs": [
        {
          "output_type": "execute_result",
          "data": {
            "text/plain": [
              "array([ 0,  2,  4,  6,  8, 10, 12, 14, 16, 18, 20, 22, 24, 26, 28])"
            ]
          },
          "metadata": {},
          "execution_count": 20
        }
      ]
    },
    {
      "cell_type": "code",
      "source": [
        "np.random.random((10, 5))"
      ],
      "metadata": {
        "colab": {
          "base_uri": "https://localhost:8080/"
        },
        "id": "Hr1ptOcoOs-_",
        "outputId": "3b70e10b-dd3c-4bc2-ed25-910c44462636"
      },
      "execution_count": null,
      "outputs": [
        {
          "output_type": "execute_result",
          "data": {
            "text/plain": [
              "array([[0.61662312, 0.17713518, 0.23823712, 0.59703783, 0.14801616],\n",
              "       [0.0226789 , 0.19728253, 0.20106569, 0.85714463, 0.46551641],\n",
              "       [0.92117106, 0.56962923, 0.43199115, 0.17843184, 0.81374315],\n",
              "       [0.09711314, 0.48988399, 0.14060834, 0.93076241, 0.94545909],\n",
              "       [0.15532214, 0.97798569, 0.64077105, 0.10945464, 0.25539568],\n",
              "       [0.87796292, 0.08968279, 0.39623416, 0.40186325, 0.96217182],\n",
              "       [0.07517684, 0.97550073, 0.65338355, 0.77461443, 0.0811847 ],\n",
              "       [0.70219456, 0.29082929, 0.37419561, 0.3935547 , 0.30337667],\n",
              "       [0.6206354 , 0.51321767, 0.4065515 , 0.62297902, 0.41657627],\n",
              "       [0.10910138, 0.21932602, 0.47915055, 0.75297775, 0.97130807]])"
            ]
          },
          "metadata": {},
          "execution_count": 21
        }
      ]
    },
    {
      "cell_type": "code",
      "source": [
        "number_2D = np.array([[4,5,6], [7, 8, 9]])\n",
        "number_2D[1]"
      ],
      "metadata": {
        "colab": {
          "base_uri": "https://localhost:8080/"
        },
        "id": "yi4oExolPFju",
        "outputId": "10e08b2c-6372-4447-fa3e-b3010172d4e9"
      },
      "execution_count": null,
      "outputs": [
        {
          "output_type": "execute_result",
          "data": {
            "text/plain": [
              "array([7, 8, 9])"
            ]
          },
          "metadata": {},
          "execution_count": 23
        }
      ]
    },
    {
      "cell_type": "code",
      "source": [
        "number_2D[-1]"
      ],
      "metadata": {
        "colab": {
          "base_uri": "https://localhost:8080/"
        },
        "id": "qYx6Ia6ePMoW",
        "outputId": "122dc660-efa7-4133-ebee-41f9045199f5"
      },
      "execution_count": null,
      "outputs": [
        {
          "output_type": "execute_result",
          "data": {
            "text/plain": [
              "array([7, 8, 9])"
            ]
          },
          "metadata": {},
          "execution_count": 24
        }
      ]
    },
    {
      "cell_type": "code",
      "source": [
        "number_2D[:, 0] # -> Dấu : biển hiện việc duyệt qua tất cả các hàng, qua mỗi hàng ta lấy phần tử đầu tiên"
      ],
      "metadata": {
        "colab": {
          "base_uri": "https://localhost:8080/"
        },
        "id": "BMUaYdQyPSk_",
        "outputId": "85de751b-900b-4b12-c8af-eda2bdd62298"
      },
      "execution_count": null,
      "outputs": [
        {
          "output_type": "execute_result",
          "data": {
            "text/plain": [
              "array([4, 7])"
            ]
          },
          "metadata": {},
          "execution_count": 25
        }
      ]
    },
    {
      "cell_type": "code",
      "source": [
        "number_2D[:, -1]"
      ],
      "metadata": {
        "colab": {
          "base_uri": "https://localhost:8080/"
        },
        "id": "JG1WpWwvPbKu",
        "outputId": "b42213c4-73aa-4e21-f961-70c6c5e86d18"
      },
      "execution_count": null,
      "outputs": [
        {
          "output_type": "execute_result",
          "data": {
            "text/plain": [
              "array([6, 9])"
            ]
          },
          "metadata": {},
          "execution_count": 26
        }
      ]
    },
    {
      "cell_type": "code",
      "source": [
        "numbers_1D = np.array([1, 2, 3])\n",
        "numbers_1D + 3"
      ],
      "metadata": {
        "colab": {
          "base_uri": "https://localhost:8080/"
        },
        "id": "5QxiGr2-PoIG",
        "outputId": "b22b9e54-9af7-44d8-f7de-8051cbf102dc"
      },
      "execution_count": null,
      "outputs": [
        {
          "output_type": "execute_result",
          "data": {
            "text/plain": [
              "array([4, 5, 6])"
            ]
          },
          "metadata": {},
          "execution_count": 27
        }
      ]
    },
    {
      "cell_type": "code",
      "source": [
        "x = np.array([\n",
        "    [6, 9, 10],\n",
        "    [15, 18, 20],\n",
        "])\n",
        "\n",
        "y = np.array([\n",
        "    [2],\n",
        "    [4],\n",
        "])\n",
        "\n",
        "x+y"
      ],
      "metadata": {
        "colab": {
          "base_uri": "https://localhost:8080/"
        },
        "id": "6x-AvQGkP2s3",
        "outputId": "56283a22-48d2-410b-badf-d9d0070a5099"
      },
      "execution_count": null,
      "outputs": [
        {
          "output_type": "execute_result",
          "data": {
            "text/plain": [
              "array([[ 8, 11, 12],\n",
              "       [19, 22, 24]])"
            ]
          },
          "metadata": {},
          "execution_count": 28
        }
      ]
    },
    {
      "cell_type": "code",
      "source": [
        "numbers_3D = np.random.random((2, 3, 2))\n",
        "numbers_3D"
      ],
      "metadata": {
        "colab": {
          "base_uri": "https://localhost:8080/"
        },
        "id": "EzFnMRpgQIJV",
        "outputId": "b3e66ce1-a20d-400f-a7ac-f455eb3d5f0d"
      },
      "execution_count": null,
      "outputs": [
        {
          "output_type": "execute_result",
          "data": {
            "text/plain": [
              "array([[[0.71969179, 0.51104752],\n",
              "        [0.67358903, 0.08228475],\n",
              "        [0.76810016, 0.65846479]],\n",
              "\n",
              "       [[0.14235369, 0.33656085],\n",
              "        [0.04172224, 0.91742326],\n",
              "        [0.97150559, 0.41101997]]])"
            ]
          },
          "metadata": {},
          "execution_count": 29
        }
      ]
    },
    {
      "cell_type": "code",
      "source": [
        "for item in np.nditer(numbers_3D):\n",
        "    print(item)"
      ],
      "metadata": {
        "colab": {
          "base_uri": "https://localhost:8080/"
        },
        "id": "MtMFux7dQMAl",
        "outputId": "542e0f9f-6307-4ca8-b319-3eaed17ad865"
      },
      "execution_count": null,
      "outputs": [
        {
          "output_type": "stream",
          "name": "stdout",
          "text": [
            "0.7196917858169634\n",
            "0.5110475199292992\n",
            "0.67358902587886\n",
            "0.0822847533466643\n",
            "0.7681001600407105\n",
            "0.6584647906695021\n",
            "0.1423536903229835\n",
            "0.33656085393254354\n",
            "0.041722238585728655\n",
            "0.9174232587495578\n",
            "0.9715055908736389\n",
            "0.41101997335596685\n"
          ]
        }
      ]
    },
    {
      "cell_type": "code",
      "source": [
        "numbers_2D = np.array([\n",
        "    [1, 2, 3, 4],\n",
        "    [5, 6, 7, 8]\n",
        "])\n",
        "\n",
        "numbers_2D.shape"
      ],
      "metadata": {
        "colab": {
          "base_uri": "https://localhost:8080/"
        },
        "id": "EhWaoxaPQfNn",
        "outputId": "80ab90b1-8273-4a62-d057-92424675e8b4"
      },
      "execution_count": null,
      "outputs": [
        {
          "output_type": "execute_result",
          "data": {
            "text/plain": [
              "(2, 4)"
            ]
          },
          "metadata": {},
          "execution_count": 31
        }
      ]
    },
    {
      "cell_type": "code",
      "source": [
        "numbers_3D = numbers_2D.reshape(2, 2, 2)\n",
        "numbers_3D"
      ],
      "metadata": {
        "colab": {
          "base_uri": "https://localhost:8080/"
        },
        "id": "qsaZyl1qQlvf",
        "outputId": "d0b18b0e-8881-4764-84c2-4380659e40ae"
      },
      "execution_count": null,
      "outputs": [
        {
          "output_type": "execute_result",
          "data": {
            "text/plain": [
              "array([[[1, 2],\n",
              "        [3, 4]],\n",
              "\n",
              "       [[5, 6],\n",
              "        [7, 8]]])"
            ]
          },
          "metadata": {},
          "execution_count": 32
        }
      ]
    },
    {
      "cell_type": "code",
      "source": [
        "numbers = np.random.random((3, 3, 3))\n",
        "numbers"
      ],
      "metadata": {
        "colab": {
          "base_uri": "https://localhost:8080/"
        },
        "id": "Y9HeRbGeQtK_",
        "outputId": "e0c23425-90df-43fd-9d86-43d996819023"
      },
      "execution_count": null,
      "outputs": [
        {
          "output_type": "execute_result",
          "data": {
            "text/plain": [
              "array([[[0.04157186, 0.40498152, 0.85823391],\n",
              "        [0.52406262, 0.64314001, 0.21880488],\n",
              "        [0.24168141, 0.86401685, 0.7975565 ]],\n",
              "\n",
              "       [[0.26017827, 0.25698103, 0.92635252],\n",
              "        [0.85077853, 0.09967426, 0.06687438],\n",
              "        [0.84896919, 0.99066311, 0.45257018]],\n",
              "\n",
              "       [[0.85515123, 0.4966046 , 0.79077929],\n",
              "        [0.00477358, 0.74511361, 0.45806714],\n",
              "        [0.06828814, 0.69667332, 0.39377167]]])"
            ]
          },
          "metadata": {},
          "execution_count": 33
        }
      ]
    },
    {
      "cell_type": "code",
      "source": [
        "numbers.shape"
      ],
      "metadata": {
        "colab": {
          "base_uri": "https://localhost:8080/"
        },
        "id": "fc2RcLNFQyFv",
        "outputId": "6c1fe593-2a80-414c-fe2f-41d472a6c503"
      },
      "execution_count": null,
      "outputs": [
        {
          "output_type": "execute_result",
          "data": {
            "text/plain": [
              "(3, 3, 3)"
            ]
          },
          "metadata": {},
          "execution_count": 34
        }
      ]
    },
    {
      "cell_type": "code",
      "source": [
        "flattened_numbers = numbers.flatten()\n",
        "flattened_numbers.shape"
      ],
      "metadata": {
        "colab": {
          "base_uri": "https://localhost:8080/"
        },
        "id": "J1NG2tT6Q06_",
        "outputId": "e672d2bc-b5b0-4e4e-bd2b-aa5a34a8a0bc"
      },
      "execution_count": null,
      "outputs": [
        {
          "output_type": "execute_result",
          "data": {
            "text/plain": [
              "(27,)"
            ]
          },
          "metadata": {},
          "execution_count": 35
        }
      ]
    },
    {
      "cell_type": "code",
      "source": [
        "flattened_numbers"
      ],
      "metadata": {
        "colab": {
          "base_uri": "https://localhost:8080/"
        },
        "id": "xt7i63trQ4fm",
        "outputId": "93513d58-8701-46d2-c939-9eae3f513003"
      },
      "execution_count": null,
      "outputs": [
        {
          "output_type": "execute_result",
          "data": {
            "text/plain": [
              "array([0.04157186, 0.40498152, 0.85823391, 0.52406262, 0.64314001,\n",
              "       0.21880488, 0.24168141, 0.86401685, 0.7975565 , 0.26017827,\n",
              "       0.25698103, 0.92635252, 0.85077853, 0.09967426, 0.06687438,\n",
              "       0.84896919, 0.99066311, 0.45257018, 0.85515123, 0.4966046 ,\n",
              "       0.79077929, 0.00477358, 0.74511361, 0.45806714, 0.06828814,\n",
              "       0.69667332, 0.39377167])"
            ]
          },
          "metadata": {},
          "execution_count": 36
        }
      ]
    },
    {
      "cell_type": "code",
      "source": [
        "numbers_2D = np.array(([1,2],[3,4]))\n",
        "numbers_2D.shape"
      ],
      "metadata": {
        "colab": {
          "base_uri": "https://localhost:8080/"
        },
        "id": "DHhEOyOMQ9F3",
        "outputId": "f79d284e-137d-481b-c345-3f8382a32da6"
      },
      "execution_count": null,
      "outputs": [
        {
          "output_type": "execute_result",
          "data": {
            "text/plain": [
              "(2, 2)"
            ]
          },
          "metadata": {},
          "execution_count": 37
        }
      ]
    },
    {
      "cell_type": "code",
      "source": [
        "numbers_3D_axis_0 = np.expand_dims(numbers_2D, axis=0)\n",
        "numbers_3D_axis_0.shape"
      ],
      "metadata": {
        "colab": {
          "base_uri": "https://localhost:8080/"
        },
        "id": "hW1ThriHRDL3",
        "outputId": "f6991f68-5442-4844-bf74-6211fdf94666"
      },
      "execution_count": null,
      "outputs": [
        {
          "output_type": "execute_result",
          "data": {
            "text/plain": [
              "(1, 2, 2)"
            ]
          },
          "metadata": {},
          "execution_count": 40
        }
      ]
    },
    {
      "cell_type": "code",
      "source": [
        "numbers_3D_axis_0"
      ],
      "metadata": {
        "colab": {
          "base_uri": "https://localhost:8080/"
        },
        "id": "TlZBwkKRRKX3",
        "outputId": "bedd4f74-46b5-4a74-c883-10924ac32b8f"
      },
      "execution_count": null,
      "outputs": [
        {
          "output_type": "execute_result",
          "data": {
            "text/plain": [
              "array([[[1, 2],\n",
              "        [3, 4]]])"
            ]
          },
          "metadata": {},
          "execution_count": 39
        }
      ]
    },
    {
      "cell_type": "code",
      "source": [
        "numbers_3D_axis_1 = np.expand_dims(numbers_2D, axis=1)\n",
        "numbers_3D_axis_1.shape"
      ],
      "metadata": {
        "colab": {
          "base_uri": "https://localhost:8080/"
        },
        "id": "kZiJhPh8RPO_",
        "outputId": "45291408-57f1-4d30-9af1-803d280ed4ae"
      },
      "execution_count": null,
      "outputs": [
        {
          "output_type": "execute_result",
          "data": {
            "text/plain": [
              "(2, 1, 2)"
            ]
          },
          "metadata": {},
          "execution_count": 41
        }
      ]
    },
    {
      "cell_type": "code",
      "source": [
        "numbers_2D = np.array([\n",
        "    [1, 2, 3, 4],\n",
        "    [5, 6, 7, 8]\n",
        "])\n",
        "transposed_numbers_1 = numbers_2D.T\n",
        "transposed_numbers_1"
      ],
      "metadata": {
        "colab": {
          "base_uri": "https://localhost:8080/"
        },
        "id": "5Ucpx0k-Reaf",
        "outputId": "1e744ab0-79d2-4d8f-d5bd-35a8d8eca489"
      },
      "execution_count": null,
      "outputs": [
        {
          "output_type": "execute_result",
          "data": {
            "text/plain": [
              "array([[1, 5],\n",
              "       [2, 6],\n",
              "       [3, 7],\n",
              "       [4, 8]])"
            ]
          },
          "metadata": {},
          "execution_count": 42
        }
      ]
    }
  ]
}