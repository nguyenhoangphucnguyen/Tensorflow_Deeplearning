{
  "nbformat": 4,
  "nbformat_minor": 0,
  "metadata": {
    "colab": {
      "provenance": [],
      "gpuType": "T4"
    },
    "kernelspec": {
      "name": "python3",
      "display_name": "Python 3"
    },
    "language_info": {
      "name": "python"
    },
    "accelerator": "GPU"
  },
  "cells": [
    {
      "cell_type": "code",
      "execution_count": 1,
      "metadata": {
        "colab": {
          "base_uri": "https://localhost:8080/"
        },
        "id": "IGD7unKVD4KB",
        "outputId": "9b0aafab-de7c-46e3-8d68-4ba6c00a10bc"
      },
      "outputs": [
        {
          "output_type": "stream",
          "name": "stdout",
          "text": [
            "--2023-07-12 07:47:13--  https://storage.googleapis.com/tensorflow-1-public/course3/sarcasm.json\n",
            "Resolving storage.googleapis.com (storage.googleapis.com)... 74.125.69.128, 64.233.182.128, 64.233.183.128, ...\n",
            "Connecting to storage.googleapis.com (storage.googleapis.com)|74.125.69.128|:443... connected.\n",
            "HTTP request sent, awaiting response... 200 OK\n",
            "Length: 5643545 (5.4M) [application/json]\n",
            "Saving to: ‘sarcasm.json’\n",
            "\n",
            "\rsarcasm.json          0%[                    ]       0  --.-KB/s               \rsarcasm.json        100%[===================>]   5.38M  --.-KB/s    in 0.03s   \n",
            "\n",
            "2023-07-12 07:47:13 (162 MB/s) - ‘sarcasm.json’ saved [5643545/5643545]\n",
            "\n"
          ]
        }
      ],
      "source": [
        "!wget https://storage.googleapis.com/tensorflow-1-public/course3/sarcasm.json"
      ]
    },
    {
      "cell_type": "code",
      "source": [
        "import json\n",
        "\n",
        "with open(\"/content/sarcasm.json\",'r') as f:\n",
        "  datastore = json.load(f)"
      ],
      "metadata": {
        "id": "onLCpXjID_Pl"
      },
      "execution_count": 2,
      "outputs": []
    },
    {
      "cell_type": "code",
      "source": [
        "datastore"
      ],
      "metadata": {
        "id": "XTp911DxEkAN"
      },
      "execution_count": null,
      "outputs": []
    },
    {
      "cell_type": "code",
      "source": [
        "senstences=[]\n",
        "labels=[]"
      ],
      "metadata": {
        "id": "EuNUsWfnECLN"
      },
      "execution_count": 3,
      "outputs": []
    },
    {
      "cell_type": "code",
      "source": [
        "for item in datastore:\n",
        "  senstences.append(item['headline'])\n",
        "  labels.append(item['is_sarcastic'])\n",
        ""
      ],
      "metadata": {
        "id": "RcRJzM_XEEjN"
      },
      "execution_count": 4,
      "outputs": []
    },
    {
      "cell_type": "code",
      "source": [
        "print(len(senstences))"
      ],
      "metadata": {
        "colab": {
          "base_uri": "https://localhost:8080/"
        },
        "id": "AUp-BDttEZzF",
        "outputId": "2e60e6d5-d0cc-4721-8c9c-5b26c314bf2b"
      },
      "execution_count": 13,
      "outputs": [
        {
          "output_type": "stream",
          "name": "stdout",
          "text": [
            "26709\n"
          ]
        }
      ]
    },
    {
      "cell_type": "code",
      "source": [
        "training_size = 20000\n",
        "\n",
        "vocab_size = 10000\n",
        "max_length = 32\n",
        "embedding_dim = 16\n"
      ],
      "metadata": {
        "id": "tIODHaoNI3n1"
      },
      "execution_count": 14,
      "outputs": []
    },
    {
      "cell_type": "code",
      "source": [
        "training_sentences = senstences[0:training_size]\n",
        "testing_sentences = senstences[training_size:]\n",
        "\n",
        "training_labels = labels[0:training_size]\n",
        "testing_lables = labels[training_size:]"
      ],
      "metadata": {
        "id": "AvfMiZOcJrs0"
      },
      "execution_count": 15,
      "outputs": []
    },
    {
      "cell_type": "code",
      "source": [
        "import numpy as np\n",
        "from tensorflow.keras.preprocessing.text import Tokenizer\n",
        "from tensorflow.keras.preprocessing.sequence import pad_sequences\n",
        "\n",
        "padding_type='post'\n",
        "trunc_type = 'post'\n",
        "oov_tok = '<OOV>'"
      ],
      "metadata": {
        "id": "Tx_nwguAKXoM"
      },
      "execution_count": 16,
      "outputs": []
    },
    {
      "cell_type": "code",
      "source": [
        "tokenizer = Tokenizer(num_words = vocab_size, oov_token = oov_tok)"
      ],
      "metadata": {
        "id": "ilvYcfqAK6Jd"
      },
      "execution_count": 17,
      "outputs": []
    },
    {
      "cell_type": "code",
      "source": [
        "tokenizer.fit_on_texts(training_sentences)\n",
        "word_index = tokenizer.word_index"
      ],
      "metadata": {
        "id": "J4m5EBu0LGhj"
      },
      "execution_count": 18,
      "outputs": []
    },
    {
      "cell_type": "code",
      "source": [
        "word_index"
      ],
      "metadata": {
        "id": "N-RaIvSmLXr8"
      },
      "execution_count": null,
      "outputs": []
    },
    {
      "cell_type": "code",
      "source": [
        "training_seqs = tokenizer.texts_to_sequences(training_sentences)\n",
        "training_padded = pad_sequences(training_seqs, maxlen = max_length, padding = padding_type, truncating=trunc_type)"
      ],
      "metadata": {
        "id": "9BhqxcugLqfD"
      },
      "execution_count": 22,
      "outputs": []
    },
    {
      "cell_type": "code",
      "source": [
        "testing_seqs = tokenizer.texts_to_sequences(testing_sentences)\n",
        "testing_padded = pad_sequences(testing_seqs, maxlen = max_length, padding = padding_type, truncating=trunc_type)"
      ],
      "metadata": {
        "id": "rGBUPeF7MPvl"
      },
      "execution_count": 23,
      "outputs": []
    },
    {
      "cell_type": "code",
      "source": [
        "training_padded[7]"
      ],
      "metadata": {
        "colab": {
          "base_uri": "https://localhost:8080/"
        },
        "id": "bBnGCFkxMaWr",
        "outputId": "93989290-16cd-4401-f1a7-497678e1bcfa"
      },
      "execution_count": 24,
      "outputs": [
        {
          "output_type": "execute_result",
          "data": {
            "text/plain": [
              "array([  20,  563,   36, 1091,   31,  163,    2,  103,   87,   18,  150,\n",
              "          6,   33,  343,    0,    0,    0,    0,    0,    0,    0,    0,\n",
              "          0,    0,    0,    0,    0,    0,    0,    0,    0,    0],\n",
              "      dtype=int32)"
            ]
          },
          "metadata": {},
          "execution_count": 24
        }
      ]
    },
    {
      "cell_type": "code",
      "source": [
        "training_sentences[7]"
      ],
      "metadata": {
        "colab": {
          "base_uri": "https://localhost:8080/",
          "height": 35
        },
        "id": "NCv8LzWOMel0",
        "outputId": "593cdbdc-b254-4a12-e3be-750f3121c726"
      },
      "execution_count": 25,
      "outputs": [
        {
          "output_type": "execute_result",
          "data": {
            "text/plain": [
              "'this ceo will send your kids to school, if you work for his company'"
            ],
            "application/vnd.google.colaboratory.intrinsic+json": {
              "type": "string"
            }
          },
          "metadata": {},
          "execution_count": 25
        }
      ]
    },
    {
      "cell_type": "code",
      "source": [
        "testing_padded[5]"
      ],
      "metadata": {
        "colab": {
          "base_uri": "https://localhost:8080/"
        },
        "id": "ezg2hOwFMsLk",
        "outputId": "874e6934-6de5-4fce-efc0-f7803a784cea"
      },
      "execution_count": 26,
      "outputs": [
        {
          "output_type": "execute_result",
          "data": {
            "text/plain": [
              "array([  44, 3450, 1906,  627,    0,    0,    0,    0,    0,    0,    0,\n",
              "          0,    0,    0,    0,    0,    0,    0,    0,    0,    0,    0,\n",
              "          0,    0,    0,    0,    0,    0,    0,    0,    0,    0],\n",
              "      dtype=int32)"
            ]
          },
          "metadata": {},
          "execution_count": 26
        }
      ]
    },
    {
      "cell_type": "code",
      "source": [
        "training_labels = np.array(training_labels)\n",
        "testing_labels = np.array(testing_lables)"
      ],
      "metadata": {
        "id": "TcXA7phWM1Oz"
      },
      "execution_count": 28,
      "outputs": []
    },
    {
      "cell_type": "code",
      "source": [
        "import tensorflow as tf\n"
      ],
      "metadata": {
        "id": "uCyYruHOPElF"
      },
      "execution_count": 29,
      "outputs": []
    },
    {
      "cell_type": "code",
      "source": [
        "model = tf.keras.Sequential([\n",
        "    tf.keras.layers.Embedding(vocab_size, embedding_dim, input_length = max_length),\n",
        "    tf.keras.layers.GlobalAveragePooling1D(),\n",
        "    tf.keras.layers.Dense(24, activation ='relu'),\n",
        "    tf.keras.layers.Dense(1, activation ='sigmoid')\n",
        "])"
      ],
      "metadata": {
        "id": "lC8aj8yMPI2C"
      },
      "execution_count": 30,
      "outputs": []
    },
    {
      "cell_type": "code",
      "source": [
        "model.summary()"
      ],
      "metadata": {
        "colab": {
          "base_uri": "https://localhost:8080/"
        },
        "id": "4Ep6Gk6AQUu8",
        "outputId": "a28ad7da-1918-4ee3-b421-1cd1f8bf7632"
      },
      "execution_count": 31,
      "outputs": [
        {
          "output_type": "stream",
          "name": "stdout",
          "text": [
            "Model: \"sequential\"\n",
            "_________________________________________________________________\n",
            " Layer (type)                Output Shape              Param #   \n",
            "=================================================================\n",
            " embedding (Embedding)       (None, 32, 16)            160000    \n",
            "                                                                 \n",
            " global_average_pooling1d (G  (None, 16)               0         \n",
            " lobalAveragePooling1D)                                          \n",
            "                                                                 \n",
            " dense (Dense)               (None, 24)                408       \n",
            "                                                                 \n",
            " dense_1 (Dense)             (None, 1)                 25        \n",
            "                                                                 \n",
            "=================================================================\n",
            "Total params: 160,433\n",
            "Trainable params: 160,433\n",
            "Non-trainable params: 0\n",
            "_________________________________________________________________\n"
          ]
        }
      ]
    },
    {
      "cell_type": "code",
      "source": [
        "model.compile(loss= 'binary_crossentropy', optimizer ='adam', metrics=['acc'])"
      ],
      "metadata": {
        "id": "XSOQAh2iQffz"
      },
      "execution_count": 32,
      "outputs": []
    },
    {
      "cell_type": "code",
      "source": [
        "history = model.fit(training_padded, training_labels, epochs = 30, validation_data=(testing_padded, testing_labels), verbose =2)"
      ],
      "metadata": {
        "colab": {
          "base_uri": "https://localhost:8080/"
        },
        "id": "sjaeSohmQwkD",
        "outputId": "081bbb8b-53c4-4079-f964-0f04c57281c2"
      },
      "execution_count": 33,
      "outputs": [
        {
          "output_type": "stream",
          "name": "stdout",
          "text": [
            "Epoch 1/30\n",
            "625/625 - 27s - loss: 0.5610 - acc: 0.7035 - val_loss: 0.3948 - val_acc: 0.8380 - 27s/epoch - 43ms/step\n",
            "Epoch 2/30\n",
            "625/625 - 3s - loss: 0.3089 - acc: 0.8747 - val_loss: 0.3441 - val_acc: 0.8542 - 3s/epoch - 5ms/step\n",
            "Epoch 3/30\n",
            "625/625 - 4s - loss: 0.2302 - acc: 0.9090 - val_loss: 0.3477 - val_acc: 0.8532 - 4s/epoch - 6ms/step\n",
            "Epoch 4/30\n",
            "625/625 - 4s - loss: 0.1849 - acc: 0.9298 - val_loss: 0.3686 - val_acc: 0.8518 - 4s/epoch - 7ms/step\n",
            "Epoch 5/30\n",
            "625/625 - 3s - loss: 0.1540 - acc: 0.9434 - val_loss: 0.3950 - val_acc: 0.8514 - 3s/epoch - 4ms/step\n",
            "Epoch 6/30\n",
            "625/625 - 4s - loss: 0.1290 - acc: 0.9552 - val_loss: 0.4306 - val_acc: 0.8472 - 4s/epoch - 7ms/step\n",
            "Epoch 7/30\n",
            "625/625 - 3s - loss: 0.1112 - acc: 0.9616 - val_loss: 0.4734 - val_acc: 0.8422 - 3s/epoch - 5ms/step\n",
            "Epoch 8/30\n",
            "625/625 - 4s - loss: 0.0950 - acc: 0.9676 - val_loss: 0.5213 - val_acc: 0.8362 - 4s/epoch - 6ms/step\n",
            "Epoch 9/30\n",
            "625/625 - 3s - loss: 0.0827 - acc: 0.9729 - val_loss: 0.5743 - val_acc: 0.8334 - 3s/epoch - 5ms/step\n",
            "Epoch 10/30\n",
            "625/625 - 2s - loss: 0.0713 - acc: 0.9774 - val_loss: 0.6360 - val_acc: 0.8299 - 2s/epoch - 3ms/step\n",
            "Epoch 11/30\n",
            "625/625 - 4s - loss: 0.0615 - acc: 0.9811 - val_loss: 0.6815 - val_acc: 0.8261 - 4s/epoch - 6ms/step\n",
            "Epoch 12/30\n",
            "625/625 - 5s - loss: 0.0543 - acc: 0.9826 - val_loss: 0.7283 - val_acc: 0.8235 - 5s/epoch - 7ms/step\n",
            "Epoch 13/30\n",
            "625/625 - 4s - loss: 0.0467 - acc: 0.9863 - val_loss: 0.8138 - val_acc: 0.8180 - 4s/epoch - 6ms/step\n",
            "Epoch 14/30\n",
            "625/625 - 4s - loss: 0.0414 - acc: 0.9876 - val_loss: 0.8744 - val_acc: 0.8174 - 4s/epoch - 6ms/step\n",
            "Epoch 15/30\n",
            "625/625 - 4s - loss: 0.0364 - acc: 0.9890 - val_loss: 0.9177 - val_acc: 0.8171 - 4s/epoch - 7ms/step\n",
            "Epoch 16/30\n",
            "625/625 - 3s - loss: 0.0329 - acc: 0.9901 - val_loss: 0.9743 - val_acc: 0.8144 - 3s/epoch - 4ms/step\n",
            "Epoch 17/30\n",
            "625/625 - 2s - loss: 0.0281 - acc: 0.9918 - val_loss: 1.0388 - val_acc: 0.8119 - 2s/epoch - 4ms/step\n",
            "Epoch 18/30\n",
            "625/625 - 2s - loss: 0.0249 - acc: 0.9930 - val_loss: 1.0913 - val_acc: 0.8086 - 2s/epoch - 3ms/step\n",
            "Epoch 19/30\n",
            "625/625 - 5s - loss: 0.0227 - acc: 0.9934 - val_loss: 1.1623 - val_acc: 0.8103 - 5s/epoch - 7ms/step\n",
            "Epoch 20/30\n",
            "625/625 - 3s - loss: 0.0218 - acc: 0.9932 - val_loss: 1.2177 - val_acc: 0.8104 - 3s/epoch - 5ms/step\n",
            "Epoch 21/30\n",
            "625/625 - 3s - loss: 0.0176 - acc: 0.9948 - val_loss: 1.2861 - val_acc: 0.8103 - 3s/epoch - 5ms/step\n",
            "Epoch 22/30\n",
            "625/625 - 2s - loss: 0.0154 - acc: 0.9955 - val_loss: 1.3386 - val_acc: 0.8073 - 2s/epoch - 3ms/step\n",
            "Epoch 23/30\n",
            "625/625 - 2s - loss: 0.0141 - acc: 0.9960 - val_loss: 1.4196 - val_acc: 0.8055 - 2s/epoch - 4ms/step\n",
            "Epoch 24/30\n",
            "625/625 - 3s - loss: 0.0130 - acc: 0.9963 - val_loss: 1.4849 - val_acc: 0.8061 - 3s/epoch - 4ms/step\n",
            "Epoch 25/30\n",
            "625/625 - 2s - loss: 0.0113 - acc: 0.9967 - val_loss: 1.5550 - val_acc: 0.8068 - 2s/epoch - 4ms/step\n",
            "Epoch 26/30\n",
            "625/625 - 2s - loss: 0.0112 - acc: 0.9971 - val_loss: 1.5913 - val_acc: 0.8040 - 2s/epoch - 3ms/step\n",
            "Epoch 27/30\n",
            "625/625 - 2s - loss: 0.0087 - acc: 0.9980 - val_loss: 1.6277 - val_acc: 0.8061 - 2s/epoch - 3ms/step\n",
            "Epoch 28/30\n",
            "625/625 - 2s - loss: 0.0098 - acc: 0.9973 - val_loss: 1.7111 - val_acc: 0.8022 - 2s/epoch - 4ms/step\n",
            "Epoch 29/30\n",
            "625/625 - 3s - loss: 0.0099 - acc: 0.9967 - val_loss: 1.8339 - val_acc: 0.8021 - 3s/epoch - 6ms/step\n",
            "Epoch 30/30\n",
            "625/625 - 3s - loss: 0.0093 - acc: 0.9969 - val_loss: 1.7957 - val_acc: 0.8009 - 3s/epoch - 4ms/step\n"
          ]
        }
      ]
    },
    {
      "cell_type": "code",
      "source": [
        "import matplotlib.pyplot as plt\n",
        "\n",
        "def plot_graphs(history, string):\n",
        "  plt.plot(history.history[string])\n",
        "  plt.plot(history.history['val_' + string])\n",
        "  plt.xlabel(\"Epochs\")\n",
        "  plt.ylabel(string)\n",
        "  plt.legend([string, 'val'+string])\n",
        "  plt.show()\n",
        "\n",
        "plot_graphs(history, 'acc')\n",
        "plot_graphs(history, 'loss')\n"
      ],
      "metadata": {
        "colab": {
          "base_uri": "https://localhost:8080/",
          "height": 881
        },
        "id": "nCaindQdRFND",
        "outputId": "c657cc95-27d6-4226-ce56-1eaf30aa3c12"
      },
      "execution_count": 35,
      "outputs": [
        {
          "output_type": "display_data",
          "data": {
            "text/plain": [
              "<Figure size 640x480 with 1 Axes>"
            ],
            "image/png": "[encoded data removed]"
          },
          "metadata": {}
        },
        {
          "output_type": "display_data",
          "data": {
            "text/plain": [
              "<Figure size 640x480 with 1 Axes>"
            ],
            "image/png": "[encoded data removed]"
          },
          "metadata": {}
        }
      ]
    },
    {
      "cell_type": "code",
      "source": [
        "test_sen = ['tom starting to fear spiders in the garden might be real', 'the weather today is bright and sunny']\n",
        "test_seq = tokenizer.texts_to_sequences(test_sen)\n",
        "test_padded = pad_sequences(test_seq, maxlen=max_length, padding = padding_type, truncating=trunc_type)\n",
        "\n",
        "model.predict(test_padded)"
      ],
      "metadata": {
        "colab": {
          "base_uri": "https://localhost:8080/"
        },
        "id": "ww1q6GEsR8ml",
        "outputId": "266d4bc0-10bb-407b-9e96-69d5df5ef4bb"
      },
      "execution_count": 37,
      "outputs": [
        {
          "output_type": "stream",
          "name": "stdout",
          "text": [
            "1/1 [==============================] - 0s 19ms/step\n"
          ]
        },
        {
          "output_type": "execute_result",
          "data": {
            "text/plain": [
              "array([[9.996786e-01],\n",
              "       [6.635327e-08]], dtype=float32)"
            ]
          },
          "metadata": {},
          "execution_count": 37
        }
      ]
    }
  ]
}