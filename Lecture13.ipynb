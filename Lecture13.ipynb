{
  "nbformat": 4,
  "nbformat_minor": 0,
  "metadata": {
    "colab": {
      "provenance": []
    },
    "kernelspec": {
      "name": "python3",
      "display_name": "Python 3"
    },
    "language_info": {
      "name": "python"
    }
  },
  "cells": [
    {
      "cell_type": "code",
      "source": [
        "from tensorflow.keras.preprocessing.text import Tokenizer\n",
        "\n",
        "sentences = ['I love PNI', 'She loves Vietnam!', 'Vietnamese people are pretty', 'I am Vietnamese', 'What do you want to learn?']\n",
        "\n",
        "tonkenizer = Tokenizer(num_words = 100, oov_token ='<OOV>')\n",
        "\n",
        "tonkenizer.fit_on_texts(sentences)\n",
        "\n",
        "word_index = tonkenizer.word_index\n"
      ],
      "metadata": {
        "id": "v11sDarQF6XR"
      },
      "execution_count": 5,
      "outputs": []
    },
    {
      "cell_type": "code",
      "source": [
        "word_index\n"
      ],
      "metadata": {
        "colab": {
          "base_uri": "https://localhost:8080/"
        },
        "id": "SbwgN-emHNJw",
        "outputId": "2f1e3741-8309-495f-dabe-89602ba81620"
      },
      "execution_count": 6,
      "outputs": [
        {
          "output_type": "execute_result",
          "data": {
            "text/plain": [
              "{'<OOV>': 1,\n",
              " 'i': 2,\n",
              " 'vietnamese': 3,\n",
              " 'love': 4,\n",
              " 'pni': 5,\n",
              " 'she': 6,\n",
              " 'loves': 7,\n",
              " 'vietnam': 8,\n",
              " 'people': 9,\n",
              " 'are': 10,\n",
              " 'pretty': 11,\n",
              " 'am': 12,\n",
              " 'what': 13,\n",
              " 'do': 14,\n",
              " 'you': 15,\n",
              " 'want': 16,\n",
              " 'to': 17,\n",
              " 'learn': 18}"
            ]
          },
          "metadata": {},
          "execution_count": 6
        }
      ]
    },
    {
      "cell_type": "code",
      "source": [
        "new_sentences =['I love AI', 'I live in HCMC']\n",
        "\n",
        "new_sequences = tonkenizer.texts_to_sequences(new_sentences)"
      ],
      "metadata": {
        "id": "6GTpMfNrHkWQ"
      },
      "execution_count": 7,
      "outputs": []
    },
    {
      "cell_type": "code",
      "source": [],
      "metadata": {
        "id": "fOPoigi1LZQO"
      },
      "execution_count": null,
      "outputs": []
    },
    {
      "cell_type": "code",
      "source": [
        "new_sequences"
      ],
      "metadata": {
        "colab": {
          "base_uri": "https://localhost:8080/"
        },
        "id": "PHOAlPTpH6kH",
        "outputId": "63cfd7f8-8524-456c-bb0b-20ee833f1c6d"
      },
      "execution_count": 8,
      "outputs": [
        {
          "output_type": "execute_result",
          "data": {
            "text/plain": [
              "[[2, 4, 1], [2, 1, 1, 1]]"
            ]
          },
          "metadata": {},
          "execution_count": 8
        }
      ]
    },
    {
      "cell_type": "code",
      "source": [
        "from tensorflow.keras.preprocessing.sequence import pad_sequences\n",
        "\n",
        "padded = pad_sequences(new_sequences, padding='post', truncating='pre', maxlen=3)"
      ],
      "metadata": {
        "id": "o-pUEbeRIUW_"
      },
      "execution_count": 17,
      "outputs": []
    },
    {
      "cell_type": "code",
      "source": [
        "padded"
      ],
      "metadata": {
        "colab": {
          "base_uri": "https://localhost:8080/"
        },
        "id": "yFa8CgsOIlVX",
        "outputId": "9ee98d8e-d667-42f3-f6e2-bba0aae90158"
      },
      "execution_count": 18,
      "outputs": [
        {
          "output_type": "execute_result",
          "data": {
            "text/plain": [
              "array([[2, 4, 1],\n",
              "       [1, 1, 1]], dtype=int32)"
            ]
          },
          "metadata": {},
          "execution_count": 18
        }
      ]
    },
    {
      "cell_type": "code",
      "source": [
        "!wget https://storage.googleapis.com/tensorflow-1-public/course3/sarcasm.json"
      ],
      "metadata": {
        "colab": {
          "base_uri": "https://localhost:8080/"
        },
        "id": "s_lUXeAEJW5W",
        "outputId": "b9523fe6-981e-4b91-e999-c8ef26bb6a8b"
      },
      "execution_count": 19,
      "outputs": [
        {
          "output_type": "stream",
          "name": "stdout",
          "text": [
            "--2023-07-05 08:22:43--  https://storage.googleapis.com/tensorflow-1-public/course3/sarcasm.json\n",
            "Resolving storage.googleapis.com (storage.googleapis.com)... 172.253.63.128, 142.250.31.128, 142.251.111.128, ...\n",
            "Connecting to storage.googleapis.com (storage.googleapis.com)|172.253.63.128|:443... connected.\n",
            "HTTP request sent, awaiting response... 200 OK\n",
            "Length: 5643545 (5.4M) [application/json]\n",
            "Saving to: ‘sarcasm.json.1’\n",
            "\n",
            "\rsarcasm.json.1        0%[                    ]       0  --.-KB/s               \rsarcasm.json.1      100%[===================>]   5.38M  --.-KB/s    in 0.03s   \n",
            "\n",
            "2023-07-05 08:22:43 (192 MB/s) - ‘sarcasm.json.1’ saved [5643545/5643545]\n",
            "\n"
          ]
        }
      ]
    },
    {
      "cell_type": "code",
      "source": [
        "import json\n",
        "\n",
        "with open(\"/content/sarcasm.json\",'r') as f:\n",
        "  datastore = json.load(f)"
      ],
      "metadata": {
        "id": "inXFkPGgJbAY"
      },
      "execution_count": 20,
      "outputs": []
    },
    {
      "cell_type": "code",
      "source": [
        "datastore[10]"
      ],
      "metadata": {
        "colab": {
          "base_uri": "https://localhost:8080/"
        },
        "id": "WA8-ygsHJtlI",
        "outputId": "34f29842-5b61-4310-9bb3-742e9ab204ed"
      },
      "execution_count": 22,
      "outputs": [
        {
          "output_type": "execute_result",
          "data": {
            "text/plain": [
              "{'article_link': 'https://www.huffingtonpost.com/entry/airline-passengers-tackle-man-who-rushes-cockpit-in-bomb-threat_us_59302e57e4b07572bdbf9460',\n",
              " 'headline': 'airline passengers tackle man who rushes cockpit in bomb threat',\n",
              " 'is_sarcastic': 0}"
            ]
          },
          "metadata": {},
          "execution_count": 22
        }
      ]
    },
    {
      "cell_type": "code",
      "source": [
        "senstences=[]\n",
        "labels=[]\n",
        "urls =[]"
      ],
      "metadata": {
        "id": "dYvtqEQ0KGIf"
      },
      "execution_count": 25,
      "outputs": []
    },
    {
      "cell_type": "code",
      "source": [
        "for item in datastore:\n",
        "  senstences.append(item['headline'])\n",
        "  labels.append(item['is_sarcastic'])\n",
        "  urls.append(item['article_link'])"
      ],
      "metadata": {
        "id": "nWBWO4ZxKPPO"
      },
      "execution_count": 26,
      "outputs": []
    },
    {
      "cell_type": "code",
      "source": [
        "tonkenizer = Tokenizer(oov_token ='<OOV>')\n",
        "\n",
        "tonkenizer.fit_on_texts(senstences)"
      ],
      "metadata": {
        "id": "QksmwqQZK51Q"
      },
      "execution_count": 27,
      "outputs": []
    },
    {
      "cell_type": "code",
      "source": [
        "word_index = tonkenizer.word_index"
      ],
      "metadata": {
        "id": "beU0N4mQLHB2"
      },
      "execution_count": 28,
      "outputs": []
    },
    {
      "cell_type": "code",
      "source": [
        "word_index"
      ],
      "metadata": {
        "id": "bqgposXsLKXG"
      },
      "execution_count": null,
      "outputs": []
    },
    {
      "cell_type": "code",
      "source": [
        "new_seqs = tonkenizer.texts_to_sequences(senstences)"
      ],
      "metadata": {
        "id": "iraF3tdRLaLm"
      },
      "execution_count": 30,
      "outputs": []
    },
    {
      "cell_type": "code",
      "source": [
        "padded = pad_sequences(new_seqs, padding='post')"
      ],
      "metadata": {
        "id": "wCcZop7xLkR-"
      },
      "execution_count": 31,
      "outputs": []
    },
    {
      "cell_type": "code",
      "source": [
        "print(senstences[2])\n",
        "print(padded[2])"
      ],
      "metadata": {
        "colab": {
          "base_uri": "https://localhost:8080/"
        },
        "id": "Y9aljzYPLwp-",
        "outputId": "236e20a0-442b-418d-c285-b1c1df06ed06"
      },
      "execution_count": 32,
      "outputs": [
        {
          "output_type": "stream",
          "name": "stdout",
          "text": [
            "mom starting to fear son's web series closest thing she will have to grandchild\n",
            "[  145   838     2   907  1749  2093   582  4719   221   143    39    46\n",
            "     2 10736     0     0     0     0     0     0     0     0     0     0\n",
            "     0     0     0     0     0     0     0     0     0     0     0     0\n",
            "     0     0     0     0]\n"
          ]
        }
      ]
    }
  ]
}